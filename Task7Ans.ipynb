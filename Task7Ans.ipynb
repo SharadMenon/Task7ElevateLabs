{
 "cells": [
  {
   "cell_type": "code",
   "execution_count": 1,
   "id": "fe472e39",
   "metadata": {},
   "outputs": [
    {
     "data": {
      "application/vnd.microsoft.datawrangler.viewer.v0+json": {
       "columns": [
        {
         "name": "index",
         "rawType": "int64",
         "type": "integer"
        },
        {
         "name": "id",
         "rawType": "int64",
         "type": "integer"
        },
        {
         "name": "diagnosis",
         "rawType": "object",
         "type": "string"
        },
        {
         "name": "radius_mean",
         "rawType": "float64",
         "type": "float"
        },
        {
         "name": "texture_mean",
         "rawType": "float64",
         "type": "float"
        },
        {
         "name": "perimeter_mean",
         "rawType": "float64",
         "type": "float"
        },
        {
         "name": "area_mean",
         "rawType": "float64",
         "type": "float"
        },
        {
         "name": "smoothness_mean",
         "rawType": "float64",
         "type": "float"
        },
        {
         "name": "compactness_mean",
         "rawType": "float64",
         "type": "float"
        },
        {
         "name": "concavity_mean",
         "rawType": "float64",
         "type": "float"
        },
        {
         "name": "concave points_mean",
         "rawType": "float64",
         "type": "float"
        },
        {
         "name": "symmetry_mean",
         "rawType": "float64",
         "type": "float"
        },
        {
         "name": "fractal_dimension_mean",
         "rawType": "float64",
         "type": "float"
        },
        {
         "name": "radius_se",
         "rawType": "float64",
         "type": "float"
        },
        {
         "name": "texture_se",
         "rawType": "float64",
         "type": "float"
        },
        {
         "name": "perimeter_se",
         "rawType": "float64",
         "type": "float"
        },
        {
         "name": "area_se",
         "rawType": "float64",
         "type": "float"
        },
        {
         "name": "smoothness_se",
         "rawType": "float64",
         "type": "float"
        },
        {
         "name": "compactness_se",
         "rawType": "float64",
         "type": "float"
        },
        {
         "name": "concavity_se",
         "rawType": "float64",
         "type": "float"
        },
        {
         "name": "concave points_se",
         "rawType": "float64",
         "type": "float"
        },
        {
         "name": "symmetry_se",
         "rawType": "float64",
         "type": "float"
        },
        {
         "name": "fractal_dimension_se",
         "rawType": "float64",
         "type": "float"
        },
        {
         "name": "radius_worst",
         "rawType": "float64",
         "type": "float"
        },
        {
         "name": "texture_worst",
         "rawType": "float64",
         "type": "float"
        },
        {
         "name": "perimeter_worst",
         "rawType": "float64",
         "type": "float"
        },
        {
         "name": "area_worst",
         "rawType": "float64",
         "type": "float"
        },
        {
         "name": "smoothness_worst",
         "rawType": "float64",
         "type": "float"
        },
        {
         "name": "compactness_worst",
         "rawType": "float64",
         "type": "float"
        },
        {
         "name": "concavity_worst",
         "rawType": "float64",
         "type": "float"
        },
        {
         "name": "concave points_worst",
         "rawType": "float64",
         "type": "float"
        },
        {
         "name": "symmetry_worst",
         "rawType": "float64",
         "type": "float"
        },
        {
         "name": "fractal_dimension_worst",
         "rawType": "float64",
         "type": "float"
        }
       ],
       "ref": "26a07ee8-ccdd-4234-aa63-a805744b7f24",
       "rows": [
        [
         "0",
         "842302",
         "M",
         "17.99",
         "10.38",
         "122.8",
         "1001.0",
         "0.1184",
         "0.2776",
         "0.3001",
         "0.1471",
         "0.2419",
         "0.07871",
         "1.095",
         "0.9053",
         "8.589",
         "153.4",
         "0.006399",
         "0.04904",
         "0.05373",
         "0.01587",
         "0.03003",
         "0.006193",
         "25.38",
         "17.33",
         "184.6",
         "2019.0",
         "0.1622",
         "0.6656",
         "0.7119",
         "0.2654",
         "0.4601",
         "0.1189"
        ],
        [
         "1",
         "842517",
         "M",
         "20.57",
         "17.77",
         "132.9",
         "1326.0",
         "0.08474",
         "0.07864",
         "0.0869",
         "0.07017",
         "0.1812",
         "0.05667",
         "0.5435",
         "0.7339",
         "3.398",
         "74.08",
         "0.005225",
         "0.01308",
         "0.0186",
         "0.0134",
         "0.01389",
         "0.003532",
         "24.99",
         "23.41",
         "158.8",
         "1956.0",
         "0.1238",
         "0.1866",
         "0.2416",
         "0.186",
         "0.275",
         "0.08902"
        ],
        [
         "2",
         "84300903",
         "M",
         "19.69",
         "21.25",
         "130.0",
         "1203.0",
         "0.1096",
         "0.1599",
         "0.1974",
         "0.1279",
         "0.2069",
         "0.05999",
         "0.7456",
         "0.7869",
         "4.585",
         "94.03",
         "0.00615",
         "0.04006",
         "0.03832",
         "0.02058",
         "0.0225",
         "0.004571",
         "23.57",
         "25.53",
         "152.5",
         "1709.0",
         "0.1444",
         "0.4245",
         "0.4504",
         "0.243",
         "0.3613",
         "0.08758"
        ],
        [
         "3",
         "84348301",
         "M",
         "11.42",
         "20.38",
         "77.58",
         "386.1",
         "0.1425",
         "0.2839",
         "0.2414",
         "0.1052",
         "0.2597",
         "0.09744",
         "0.4956",
         "1.156",
         "3.445",
         "27.23",
         "0.00911",
         "0.07458",
         "0.05661",
         "0.01867",
         "0.05963",
         "0.009208",
         "14.91",
         "26.5",
         "98.87",
         "567.7",
         "0.2098",
         "0.8663",
         "0.6869",
         "0.2575",
         "0.6638",
         "0.173"
        ],
        [
         "4",
         "84358402",
         "M",
         "20.29",
         "14.34",
         "135.1",
         "1297.0",
         "0.1003",
         "0.1328",
         "0.198",
         "0.1043",
         "0.1809",
         "0.05883",
         "0.7572",
         "0.7813",
         "5.438",
         "94.44",
         "0.01149",
         "0.02461",
         "0.05688",
         "0.01885",
         "0.01756",
         "0.005115",
         "22.54",
         "16.67",
         "152.2",
         "1575.0",
         "0.1374",
         "0.205",
         "0.4",
         "0.1625",
         "0.2364",
         "0.07678"
        ]
       ],
       "shape": {
        "columns": 32,
        "rows": 5
       }
      },
      "text/html": [
       "<div>\n",
       "<style scoped>\n",
       "    .dataframe tbody tr th:only-of-type {\n",
       "        vertical-align: middle;\n",
       "    }\n",
       "\n",
       "    .dataframe tbody tr th {\n",
       "        vertical-align: top;\n",
       "    }\n",
       "\n",
       "    .dataframe thead th {\n",
       "        text-align: right;\n",
       "    }\n",
       "</style>\n",
       "<table border=\"1\" class=\"dataframe\">\n",
       "  <thead>\n",
       "    <tr style=\"text-align: right;\">\n",
       "      <th></th>\n",
       "      <th>id</th>\n",
       "      <th>diagnosis</th>\n",
       "      <th>radius_mean</th>\n",
       "      <th>texture_mean</th>\n",
       "      <th>perimeter_mean</th>\n",
       "      <th>area_mean</th>\n",
       "      <th>smoothness_mean</th>\n",
       "      <th>compactness_mean</th>\n",
       "      <th>concavity_mean</th>\n",
       "      <th>concave points_mean</th>\n",
       "      <th>...</th>\n",
       "      <th>radius_worst</th>\n",
       "      <th>texture_worst</th>\n",
       "      <th>perimeter_worst</th>\n",
       "      <th>area_worst</th>\n",
       "      <th>smoothness_worst</th>\n",
       "      <th>compactness_worst</th>\n",
       "      <th>concavity_worst</th>\n",
       "      <th>concave points_worst</th>\n",
       "      <th>symmetry_worst</th>\n",
       "      <th>fractal_dimension_worst</th>\n",
       "    </tr>\n",
       "  </thead>\n",
       "  <tbody>\n",
       "    <tr>\n",
       "      <th>0</th>\n",
       "      <td>842302</td>\n",
       "      <td>M</td>\n",
       "      <td>17.99</td>\n",
       "      <td>10.38</td>\n",
       "      <td>122.80</td>\n",
       "      <td>1001.0</td>\n",
       "      <td>0.11840</td>\n",
       "      <td>0.27760</td>\n",
       "      <td>0.3001</td>\n",
       "      <td>0.14710</td>\n",
       "      <td>...</td>\n",
       "      <td>25.38</td>\n",
       "      <td>17.33</td>\n",
       "      <td>184.60</td>\n",
       "      <td>2019.0</td>\n",
       "      <td>0.1622</td>\n",
       "      <td>0.6656</td>\n",
       "      <td>0.7119</td>\n",
       "      <td>0.2654</td>\n",
       "      <td>0.4601</td>\n",
       "      <td>0.11890</td>\n",
       "    </tr>\n",
       "    <tr>\n",
       "      <th>1</th>\n",
       "      <td>842517</td>\n",
       "      <td>M</td>\n",
       "      <td>20.57</td>\n",
       "      <td>17.77</td>\n",
       "      <td>132.90</td>\n",
       "      <td>1326.0</td>\n",
       "      <td>0.08474</td>\n",
       "      <td>0.07864</td>\n",
       "      <td>0.0869</td>\n",
       "      <td>0.07017</td>\n",
       "      <td>...</td>\n",
       "      <td>24.99</td>\n",
       "      <td>23.41</td>\n",
       "      <td>158.80</td>\n",
       "      <td>1956.0</td>\n",
       "      <td>0.1238</td>\n",
       "      <td>0.1866</td>\n",
       "      <td>0.2416</td>\n",
       "      <td>0.1860</td>\n",
       "      <td>0.2750</td>\n",
       "      <td>0.08902</td>\n",
       "    </tr>\n",
       "    <tr>\n",
       "      <th>2</th>\n",
       "      <td>84300903</td>\n",
       "      <td>M</td>\n",
       "      <td>19.69</td>\n",
       "      <td>21.25</td>\n",
       "      <td>130.00</td>\n",
       "      <td>1203.0</td>\n",
       "      <td>0.10960</td>\n",
       "      <td>0.15990</td>\n",
       "      <td>0.1974</td>\n",
       "      <td>0.12790</td>\n",
       "      <td>...</td>\n",
       "      <td>23.57</td>\n",
       "      <td>25.53</td>\n",
       "      <td>152.50</td>\n",
       "      <td>1709.0</td>\n",
       "      <td>0.1444</td>\n",
       "      <td>0.4245</td>\n",
       "      <td>0.4504</td>\n",
       "      <td>0.2430</td>\n",
       "      <td>0.3613</td>\n",
       "      <td>0.08758</td>\n",
       "    </tr>\n",
       "    <tr>\n",
       "      <th>3</th>\n",
       "      <td>84348301</td>\n",
       "      <td>M</td>\n",
       "      <td>11.42</td>\n",
       "      <td>20.38</td>\n",
       "      <td>77.58</td>\n",
       "      <td>386.1</td>\n",
       "      <td>0.14250</td>\n",
       "      <td>0.28390</td>\n",
       "      <td>0.2414</td>\n",
       "      <td>0.10520</td>\n",
       "      <td>...</td>\n",
       "      <td>14.91</td>\n",
       "      <td>26.50</td>\n",
       "      <td>98.87</td>\n",
       "      <td>567.7</td>\n",
       "      <td>0.2098</td>\n",
       "      <td>0.8663</td>\n",
       "      <td>0.6869</td>\n",
       "      <td>0.2575</td>\n",
       "      <td>0.6638</td>\n",
       "      <td>0.17300</td>\n",
       "    </tr>\n",
       "    <tr>\n",
       "      <th>4</th>\n",
       "      <td>84358402</td>\n",
       "      <td>M</td>\n",
       "      <td>20.29</td>\n",
       "      <td>14.34</td>\n",
       "      <td>135.10</td>\n",
       "      <td>1297.0</td>\n",
       "      <td>0.10030</td>\n",
       "      <td>0.13280</td>\n",
       "      <td>0.1980</td>\n",
       "      <td>0.10430</td>\n",
       "      <td>...</td>\n",
       "      <td>22.54</td>\n",
       "      <td>16.67</td>\n",
       "      <td>152.20</td>\n",
       "      <td>1575.0</td>\n",
       "      <td>0.1374</td>\n",
       "      <td>0.2050</td>\n",
       "      <td>0.4000</td>\n",
       "      <td>0.1625</td>\n",
       "      <td>0.2364</td>\n",
       "      <td>0.07678</td>\n",
       "    </tr>\n",
       "  </tbody>\n",
       "</table>\n",
       "<p>5 rows × 32 columns</p>\n",
       "</div>"
      ],
      "text/plain": [
       "         id diagnosis  radius_mean  texture_mean  perimeter_mean  area_mean  \\\n",
       "0    842302         M        17.99         10.38          122.80     1001.0   \n",
       "1    842517         M        20.57         17.77          132.90     1326.0   \n",
       "2  84300903         M        19.69         21.25          130.00     1203.0   \n",
       "3  84348301         M        11.42         20.38           77.58      386.1   \n",
       "4  84358402         M        20.29         14.34          135.10     1297.0   \n",
       "\n",
       "   smoothness_mean  compactness_mean  concavity_mean  concave points_mean  \\\n",
       "0          0.11840           0.27760          0.3001              0.14710   \n",
       "1          0.08474           0.07864          0.0869              0.07017   \n",
       "2          0.10960           0.15990          0.1974              0.12790   \n",
       "3          0.14250           0.28390          0.2414              0.10520   \n",
       "4          0.10030           0.13280          0.1980              0.10430   \n",
       "\n",
       "   ...  radius_worst  texture_worst  perimeter_worst  area_worst  \\\n",
       "0  ...         25.38          17.33           184.60      2019.0   \n",
       "1  ...         24.99          23.41           158.80      1956.0   \n",
       "2  ...         23.57          25.53           152.50      1709.0   \n",
       "3  ...         14.91          26.50            98.87       567.7   \n",
       "4  ...         22.54          16.67           152.20      1575.0   \n",
       "\n",
       "   smoothness_worst  compactness_worst  concavity_worst  concave points_worst  \\\n",
       "0            0.1622             0.6656           0.7119                0.2654   \n",
       "1            0.1238             0.1866           0.2416                0.1860   \n",
       "2            0.1444             0.4245           0.4504                0.2430   \n",
       "3            0.2098             0.8663           0.6869                0.2575   \n",
       "4            0.1374             0.2050           0.4000                0.1625   \n",
       "\n",
       "   symmetry_worst  fractal_dimension_worst  \n",
       "0          0.4601                  0.11890  \n",
       "1          0.2750                  0.08902  \n",
       "2          0.3613                  0.08758  \n",
       "3          0.6638                  0.17300  \n",
       "4          0.2364                  0.07678  \n",
       "\n",
       "[5 rows x 32 columns]"
      ]
     },
     "execution_count": 1,
     "metadata": {},
     "output_type": "execute_result"
    }
   ],
   "source": [
    "import pandas as pd\n",
    "from sklearn.model_selection import train_test_split\n",
    "from sklearn.preprocessing import StandardScaler\n",
    "df = pd.read_csv('breast-cancer.csv')\n",
    "df.head()\n"
   ]
  },
  {
   "cell_type": "markdown",
   "id": "099f3e7c",
   "metadata": {},
   "source": [
    "Dropping any non-numerical ID columns"
   ]
  },
  {
   "cell_type": "code",
   "execution_count": null,
   "id": "8d3600d2",
   "metadata": {},
   "outputs": [],
   "source": [
    "df.drop(columns=['id', 'Unnamed: 32'], errors='ignore', inplace=True)\n",
    "df['diagnosis'] = df['diagnosis'].map({'M': 1, 'B': 0})  \n",
    "X = df.drop('diagnosis', axis=1)\n",
    "y = df['diagnosis']\n",
    "X_train, X_test, y_train, y_test = train_test_split(X, y, test_size=0.3, random_state=42)\n",
    "scaler = StandardScaler()\n",
    "X_train = scaler.fit_transform(X_train)\n",
    "X_test = scaler.transform(X_test)\n"
   ]
  },
  {
   "cell_type": "markdown",
   "id": "368fc80e",
   "metadata": {},
   "source": [
    "Importing SVC and finding accuracy_score"
   ]
  },
  {
   "cell_type": "code",
   "execution_count": null,
   "id": "8499ad8d",
   "metadata": {},
   "outputs": [
    {
     "name": "stdout",
     "output_type": "stream",
     "text": [
      "Linear SVM Test Accuracy: 0.9766081871345029\n",
      "RBF SVM Test Accuracy: 0.9766081871345029\n"
     ]
    }
   ],
   "source": [
    "from sklearn.svm import SVC\n",
    "from sklearn.metrics import accuracy_score\n",
    "\n",
    "\n",
    "svm_linear = SVC(kernel='linear', C=1)\n",
    "svm_linear.fit(X_train, y_train)\n",
    "\n",
    "\n",
    "svm_rbf = SVC(kernel='rbf', C=1, gamma='scale')\n",
    "svm_rbf.fit(X_train, y_train)\n",
    "\n",
    "\n",
    "print(\"Linear SVM Test Accuracy:\", accuracy_score(y_test, svm_linear.predict(X_test)))\n",
    "print(\"RBF SVM Test Accuracy:\", accuracy_score(y_test, svm_rbf.predict(X_test)))\n"
   ]
  },
  {
   "cell_type": "markdown",
   "id": "db70e9cb",
   "metadata": {},
   "source": [
    "Dimensional Reduction using PCA"
   ]
  },
  {
   "cell_type": "code",
   "execution_count": 4,
   "id": "a81f1bed",
   "metadata": {},
   "outputs": [
    {
     "data": {
      "image/png": "[encoded data removed]",
      "text/plain": [
       "<Figure size 640x480 with 1 Axes>"
      ]
     },
     "metadata": {},
     "output_type": "display_data"
    }
   ],
   "source": [
    "from sklearn.decomposition import PCA\n",
    "import matplotlib.pyplot as plt\n",
    "import numpy as np\n",
    "pca = PCA(n_components=2)\n",
    "X_reduced = pca.fit_transform(X)\n",
    "X_train_pca, X_test_pca, y_train_pca, y_test_pca = train_test_split(X_reduced, y, test_size=0.3, random_state=42)\n",
    "svm_pca = SVC(kernel='rbf', C=1, gamma='scale')\n",
    "svm_pca.fit(X_train_pca, y_train_pca)\n",
    "def plot_decision_boundary(model, X, y, title):\n",
    "    x_min, x_max = X[:, 0].min()-1, X[:, 0].max()+1\n",
    "    y_min, y_max = X[:, 1].min()-1, X[:, 1].max()+1\n",
    "    xx, yy = np.meshgrid(np.linspace(x_min, x_max, 500),\n",
    "                         np.linspace(y_min, y_max, 500))\n",
    "    Z = model.predict(np.c_[xx.ravel(), yy.ravel()]).reshape(xx.shape)\n",
    "\n",
    "    plt.contourf(xx, yy, Z, alpha=0.3)\n",
    "    plt.scatter(X[:, 0], X[:, 1], c=y, cmap='coolwarm', edgecolor='k')\n",
    "    plt.title(title)\n",
    "    plt.xlabel('PCA 1')\n",
    "    plt.ylabel('PCA 2')\n",
    "    plt.show()\n",
    "\n",
    "plot_decision_boundary(svm_pca, X_train_pca, y_train_pca, \"RBF SVM Decision Boundary (PCA Reduced)\")\n"
   ]
  },
  {
   "cell_type": "markdown",
   "id": "ee00b715",
   "metadata": {},
   "source": [
    "Tuning Hyperparameters"
   ]
  },
  {
   "cell_type": "code",
   "execution_count": 5,
   "id": "6c851aed",
   "metadata": {},
   "outputs": [
    {
     "name": "stdout",
     "output_type": "stream",
     "text": [
      "Best Parameters: {'C': 10, 'gamma': 0.01, 'kernel': 'rbf'}\n",
      "Best CV Score: 0.9672784810126581\n"
     ]
    }
   ],
   "source": [
    "from sklearn.model_selection import GridSearchCV\n",
    "\n",
    "param_grid = {\n",
    "    'C': [0.1, 1, 10],\n",
    "    'gamma': [0.001, 0.01, 0.1, 1],\n",
    "    'kernel': ['rbf']\n",
    "}\n",
    "\n",
    "grid = GridSearchCV(SVC(), param_grid, cv=5)\n",
    "grid.fit(X_train, y_train)\n",
    "\n",
    "print(\"Best Parameters:\", grid.best_params_)\n",
    "print(\"Best CV Score:\", grid.best_score_)\n"
   ]
  },
  {
   "cell_type": "markdown",
   "id": "50143a3f",
   "metadata": {},
   "source": [
    "Cross Validation"
   ]
  },
  {
   "cell_type": "code",
   "execution_count": 6,
   "id": "76b5b30f",
   "metadata": {},
   "outputs": [
    {
     "name": "stdout",
     "output_type": "stream",
     "text": [
      "Cross-Validation Scores: [0.62280702 0.62280702 0.63157895 0.64035088 0.61946903]\n",
      "Mean CV Accuracy: 0.6274025772395591\n"
     ]
    }
   ],
   "source": [
    "from sklearn.model_selection import cross_val_score\n",
    "\n",
    "best_model = grid.best_estimator_\n",
    "cv_scores = cross_val_score(best_model, X, y, cv=5)\n",
    "\n",
    "print(\"Cross-Validation Scores:\", cv_scores)\n",
    "print(\"Mean CV Accuracy:\", cv_scores.mean())\n"
   ]
  },
  {
   "cell_type": "code",
   "execution_count": null,
   "id": "ac5e5332",
   "metadata": {},
   "outputs": [],
   "source": []
  }
 ],
 "metadata": {
  "kernelspec": {
   "display_name": "tensorflow",
   "language": "python",
   "name": "python3"
  },
  "language_info": {
   "codemirror_mode": {
    "name": "ipython",
    "version": 3
   },
   "file_extension": ".py",
   "mimetype": "text/x-python",
   "name": "python",
   "nbconvert_exporter": "python",
   "pygments_lexer": "ipython3",
   "version": "3.10.16"
  }
 },
 "nbformat": 4,
 "nbformat_minor": 5
}
